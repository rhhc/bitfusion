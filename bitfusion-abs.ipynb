{
 "cells": [
  {
   "cell_type": "markdown",
   "metadata": {},
   "source": [
    "# Imports"
   ]
  },
  {
   "cell_type": "code",
   "execution_count": 2,
   "metadata": {},
   "outputs": [
    {
     "output_type": "stream",
     "name": "stdout",
     "text": [
      "The autoreload extension is already loaded. To reload it, use:\n  %reload_ext autoreload\nsys.version_info(major=3, minor=6, micro=2, releaselevel='final', serial=0)\n"
     ]
    },
    {
     "output_type": "error",
     "ename": "ModuleNotFoundError",
     "evalue": "No module named 'layer'",
     "traceback": [
      "\u001b[0;31m---------------------------------------------------------------------------\u001b[0m",
      "\u001b[0;31mModuleNotFoundError\u001b[0m                       Traceback (most recent call last)",
      "\u001b[0;32m<ipython-input-2-3e6c99f1333e>\u001b[0m in \u001b[0;36m<module>\u001b[0;34m()\u001b[0m\n\u001b[1;32m     18\u001b[0m \u001b[0;32mimport\u001b[0m \u001b[0mdnnweaver2\u001b[0m\u001b[0;34m\u001b[0m\u001b[0m\n\u001b[1;32m     19\u001b[0m \u001b[0;34m\u001b[0m\u001b[0m\n\u001b[0;32m---> 20\u001b[0;31m \u001b[0;32mimport\u001b[0m \u001b[0mbitfusion\u001b[0m\u001b[0;34m.\u001b[0m\u001b[0msrc\u001b[0m\u001b[0;34m.\u001b[0m\u001b[0mbenchmarks\u001b[0m\u001b[0;34m.\u001b[0m\u001b[0mbenchmarks\u001b[0m \u001b[0;32mas\u001b[0m \u001b[0mbenchmarks\u001b[0m\u001b[0;34m\u001b[0m\u001b[0m\n\u001b[0m\u001b[1;32m     21\u001b[0m \u001b[0;32mfrom\u001b[0m \u001b[0mbitfusion\u001b[0m\u001b[0;34m.\u001b[0m\u001b[0msrc\u001b[0m\u001b[0;34m.\u001b[0m\u001b[0msimulator\u001b[0m\u001b[0;34m.\u001b[0m\u001b[0mstats\u001b[0m \u001b[0;32mimport\u001b[0m \u001b[0mStats\u001b[0m\u001b[0;34m\u001b[0m\u001b[0m\n\u001b[1;32m     22\u001b[0m \u001b[0;32mfrom\u001b[0m \u001b[0mbitfusion\u001b[0m\u001b[0;34m.\u001b[0m\u001b[0msrc\u001b[0m\u001b[0;34m.\u001b[0m\u001b[0msimulator\u001b[0m\u001b[0;34m.\u001b[0m\u001b[0msimulator\u001b[0m \u001b[0;32mimport\u001b[0m \u001b[0mSimulator\u001b[0m\u001b[0;34m\u001b[0m\u001b[0m\n",
      "\u001b[0;32m~/projects/bitfusion/bitfusion/src/benchmarks/benchmarks.py\u001b[0m in \u001b[0;36m<module>\u001b[0;34m()\u001b[0m\n\u001b[1;32m     77\u001b[0m \u001b[0;34m\u001b[0m\u001b[0m\n\u001b[1;32m     78\u001b[0m \u001b[0;32mtry\u001b[0m\u001b[0;34m:\u001b[0m\u001b[0;34m\u001b[0m\u001b[0m\n\u001b[0;32m---> 79\u001b[0;31m     \u001b[0;32mimport\u001b[0m \u001b[0mlayer\u001b[0m\u001b[0;34m\u001b[0m\u001b[0m\n\u001b[0m\u001b[1;32m     80\u001b[0m     \u001b[0mbenchlist\u001b[0m \u001b[0;34m+=\u001b[0m \u001b[0mlayer\u001b[0m\u001b[0;34m.\u001b[0m\u001b[0mbenchlist\u001b[0m\u001b[0;34m\u001b[0m\u001b[0m\n\u001b[1;32m     81\u001b[0m     \u001b[0mprint\u001b[0m\u001b[0;34m(\u001b[0m\u001b[0;34m\"benchlist length is %d in benchmarks.py\"\u001b[0m \u001b[0;34m%\u001b[0m \u001b[0mlen\u001b[0m\u001b[0;34m(\u001b[0m\u001b[0mbenchlist\u001b[0m\u001b[0;34m)\u001b[0m\u001b[0;34m)\u001b[0m\u001b[0;34m\u001b[0m\u001b[0m\n",
      "\u001b[0;31mModuleNotFoundError\u001b[0m: No module named 'layer'"
     ]
    }
   ],
   "source": [
    "import pandas\n",
    "#import ConfigParser\n",
    "import os\n",
    "import numpy as np\n",
    "%load_ext autoreload\n",
    "%autoreload 2\n",
    "from bitfusion.graph_plot.barchart import BarChart\n",
    "\n",
    "%matplotlib inline\n",
    "import matplotlib\n",
    "\n",
    "import warnings\n",
    "warnings.filterwarnings('ignore')\n",
    "\n",
    "import sys\n",
    "sys.path.insert(0, '../dnnweaver2')\n",
    "print(sys.version_info)\n",
    "import dnnweaver2\n",
    "\n",
    "import bitfusion.src.benchmarks.benchmarks as benchmarks\n",
    "from bitfusion.src.simulator.stats import Stats\n",
    "from bitfusion.src.simulator.simulator import Simulator\n",
    "from bitfusion.src.sweep.sweep import SimulatorSweep, check_pandas_or_run\n",
    "from bitfusion.src.utils.utils import *\n",
    "from bitfusion.src.optimizer.optimizer import optimize_for_order, get_stats_fast\n",
    "\n"
   ]
  },
  {
   "cell_type": "markdown",
   "metadata": {},
   "source": [
    "## Constants\n",
    "### We use a batch size of 16"
   ]
  },
  {
   "cell_type": "code",
   "execution_count": 2,
   "metadata": {},
   "outputs": [],
   "source": [
    "batch_size = 16\n",
    "\n",
    "results_dir = './results'\n",
    "if not os.path.exists(results_dir):\n",
    "    os.makedirs(results_dir)\n",
    "\n",
    "#  if last result exists, the simulator would no generate new results\n",
    "result_file = \"bitfusion-abs-sim-sweep.csv\"\n",
    "if os.path.exists(os.path.join(results_dir, result_file)):\n",
    "    os.remove(os.path.join(results_dir, result_file))\n",
    "\n",
    "fig_dir = './fig'\n",
    "if not os.path.exists(fig_dir):\n",
    "    os.makedirs(fig_dir)"
   ]
  },
  {
   "cell_type": "markdown",
   "metadata": {},
   "source": [
    "### Create a simulator object using the configuration from BitFusion-Eyeriss (bf_e_conf.ini)"
   ]
  },
  {
   "cell_type": "code",
   "execution_count": 3,
   "metadata": {
    "scrolled": false
   },
   "outputs": [
    {
     "name": "stdout",
     "output_type": "stream",
     "text": [
      "Can't find binary file /workspace/git/bitfusion/bitfusion/src/simulator/../../sram/cacti/cacti. Please clone and compile cacti first\n",
      "Simulator object\n",
      "\tMax supported precision: 8\n",
      "\tMin supported precision: 2\n",
      "\tSystolic array size: 16 -inputs x 32 -outputs\n",
      "\tWbuf size: 65,536 Bytes\n",
      "\tIbuf size: 32,768 Bytes\n",
      "\tObuf size: 16,384 Bytes\n",
      "Double buffering enabled. Sizes of SRAM are halved\n",
      "\n",
      "**************************************************\n",
      "Energy costs for BitFusion\n",
      "Core dynamic energy : 235.104 pJ/cycle (for entire systolic array)\n",
      "WBUF Read energy    : 0.021 pJ/bit\n",
      "WBUF Write energy   : 0.029 pJ/bit\n",
      "IBUF Read energy    : 0.059 pJ/bit\n",
      "IBUF Write energy   : 0.114 pJ/bit\n",
      "OBUF Read energy    : 0.033 pJ/bit\n",
      "OBUF Write energy   : 0.073 pJ/bit\n",
      "\n"
     ]
    }
   ],
   "source": [
    "# BitFusion configuration file\n",
    "config_file = 'bf_e_conf.ini'\n",
    "\n",
    "# Create simulator object\n",
    "verbose = False\n",
    "bf_e_sim = Simulator(config_file, verbose)\n",
    "bf_e_energy_costs = bf_e_sim.get_energy_cost()\n",
    "print(bf_e_sim)\n",
    "\n",
    "energy_tuple = bf_e_energy_costs\n",
    "print('')\n",
    "print('*'*50)\n",
    "print(energy_tuple)"
   ]
  },
  {
   "cell_type": "markdown",
   "metadata": {},
   "source": [
    "### Generate BitFusion numbers"
   ]
  },
  {
   "cell_type": "code",
   "execution_count": 4,
   "metadata": {
    "scrolled": false
   },
   "outputs": [
    {
     "name": "stderr",
     "output_type": "stream",
     "text": [
      "INFO:bitfusion.src.sweep.sweep.Simulator:Simulating Benchmark: AlexNet\n",
      "INFO:bitfusion.src.sweep.sweep.Simulator:N x M = 16 x 32\n",
      "INFO:bitfusion.src.sweep.sweep.Simulator:Max Precision (bits): 8\n",
      "INFO:bitfusion.src.sweep.sweep.Simulator:Min Precision (bits): 2\n",
      "INFO:bitfusion.src.sweep.sweep.Simulator:Batch size: 16\n",
      "INFO:bitfusion.src.sweep.sweep.Simulator:Bandwidth (bits/cycle): 192\n"
     ]
    },
    {
     "name": "stdout",
     "output_type": "stream",
     "text": [
      "Got BitFusion Eyeriss, Numbers\n",
      "Can't find binary file /workspace/git/bitfusion/bitfusion/src/simulator/../../sram/cacti/cacti. Please clone and compile cacti first\n"
     ]
    },
    {
     "name": "stderr",
     "output_type": "stream",
     "text": [
      "INFO:bitfusion.src.sweep.sweep.Simulator:Simulating Benchmark: SVHN\n",
      "INFO:bitfusion.src.sweep.sweep.Simulator:N x M = 16 x 32\n",
      "INFO:bitfusion.src.sweep.sweep.Simulator:Max Precision (bits): 8\n",
      "INFO:bitfusion.src.sweep.sweep.Simulator:Min Precision (bits): 2\n",
      "INFO:bitfusion.src.sweep.sweep.Simulator:Batch size: 16\n",
      "INFO:bitfusion.src.sweep.sweep.Simulator:Bandwidth (bits/cycle): 192\n",
      "INFO:bitfusion.src.sweep.sweep.Simulator:Simulating Benchmark: CIFAR10\n",
      "INFO:bitfusion.src.sweep.sweep.Simulator:N x M = 16 x 32\n",
      "INFO:bitfusion.src.sweep.sweep.Simulator:Max Precision (bits): 8\n",
      "INFO:bitfusion.src.sweep.sweep.Simulator:Min Precision (bits): 2\n",
      "INFO:bitfusion.src.sweep.sweep.Simulator:Batch size: 16\n",
      "INFO:bitfusion.src.sweep.sweep.Simulator:Bandwidth (bits/cycle): 192\n",
      "INFO:bitfusion.src.sweep.sweep.Simulator:Simulating Benchmark: LeNet-5\n",
      "INFO:bitfusion.src.sweep.sweep.Simulator:N x M = 16 x 32\n",
      "INFO:bitfusion.src.sweep.sweep.Simulator:Max Precision (bits): 8\n",
      "INFO:bitfusion.src.sweep.sweep.Simulator:Min Precision (bits): 2\n",
      "INFO:bitfusion.src.sweep.sweep.Simulator:Batch size: 16\n",
      "INFO:bitfusion.src.sweep.sweep.Simulator:Bandwidth (bits/cycle): 192\n",
      "INFO:bitfusion.src.sweep.sweep.Simulator:Simulating Benchmark: VGG-7\n",
      "INFO:bitfusion.src.sweep.sweep.Simulator:N x M = 16 x 32\n",
      "INFO:bitfusion.src.sweep.sweep.Simulator:Max Precision (bits): 8\n",
      "INFO:bitfusion.src.sweep.sweep.Simulator:Min Precision (bits): 2\n",
      "INFO:bitfusion.src.sweep.sweep.Simulator:Batch size: 16\n",
      "INFO:bitfusion.src.sweep.sweep.Simulator:Bandwidth (bits/cycle): 192\n",
      "INFO:bitfusion.src.sweep.sweep.Simulator:Simulating Benchmark: RESNET-18\n",
      "INFO:bitfusion.src.sweep.sweep.Simulator:N x M = 16 x 32\n",
      "INFO:bitfusion.src.sweep.sweep.Simulator:Max Precision (bits): 8\n",
      "INFO:bitfusion.src.sweep.sweep.Simulator:Min Precision (bits): 2\n",
      "INFO:bitfusion.src.sweep.sweep.Simulator:Batch size: 16\n",
      "INFO:bitfusion.src.sweep.sweep.Simulator:Bandwidth (bits/cycle): 192\n",
      "INFO:bitfusion.src.sweep.sweep.Simulator:Simulating Benchmark: RNN\n",
      "INFO:bitfusion.src.sweep.sweep.Simulator:N x M = 16 x 32\n",
      "INFO:bitfusion.src.sweep.sweep.Simulator:Max Precision (bits): 8\n",
      "INFO:bitfusion.src.sweep.sweep.Simulator:Min Precision (bits): 2\n",
      "INFO:bitfusion.src.sweep.sweep.Simulator:Batch size: 16\n",
      "INFO:bitfusion.src.sweep.sweep.Simulator:Bandwidth (bits/cycle): 192\n",
      "INFO:bitfusion.src.sweep.sweep.Simulator:Simulating Benchmark: LSTM\n",
      "INFO:bitfusion.src.sweep.sweep.Simulator:N x M = 16 x 32\n",
      "INFO:bitfusion.src.sweep.sweep.Simulator:Max Precision (bits): 8\n",
      "INFO:bitfusion.src.sweep.sweep.Simulator:Min Precision (bits): 2\n",
      "INFO:bitfusion.src.sweep.sweep.Simulator:Batch size: 16\n",
      "INFO:bitfusion.src.sweep.sweep.Simulator:Bandwidth (bits/cycle): 192\n"
     ]
    }
   ],
   "source": [
    "sim_sweep_columns = ['N', 'M',\n",
    "        'Max Precision (bits)', 'Min Precision (bits)',\n",
    "        'Network', 'Layer',\n",
    "        'Cycles', 'Memory wait cycles',\n",
    "        'WBUF Read', 'WBUF Write',\n",
    "        'OBUF Read', 'OBUF Write',\n",
    "        'IBUF Read', 'IBUF Write',\n",
    "        'DRAM Read', 'DRAM Write',\n",
    "        'Bandwidth (bits/cycle)',\n",
    "        'WBUF Size (bits)', 'OBUF Size (bits)', 'IBUF Size (bits)',\n",
    "        'Batch size']\n",
    "\n",
    "bf_e_sim_sweep_csv = os.path.join(results_dir, result_file)\n",
    "if os.path.exists(bf_e_sim_sweep_csv):\n",
    "    bf_e_sim_sweep_df = pandas.read_csv(bf_e_sim_sweep_csv)\n",
    "else:\n",
    "    bf_e_sim_sweep_df = pandas.DataFrame(columns=sim_sweep_columns)\n",
    "print('Got BitFusion Eyeriss, Numbers')\n",
    "\n",
    "bf_e_results = check_pandas_or_run(bf_e_sim, bf_e_sim_sweep_df,\n",
    "        bf_e_sim_sweep_csv, batch_size=batch_size)\n",
    "bf_e_results = bf_e_results.groupby('Network',as_index=False).agg(np.sum)\n",
    "area_stats = bf_e_sim.get_area()"
   ]
  },
  {
   "cell_type": "markdown",
   "metadata": {},
   "source": [
    "### Get Eyeriss numbers"
   ]
  },
  {
   "cell_type": "code",
   "execution_count": 5,
   "metadata": {},
   "outputs": [],
   "source": [
    "def get_eyeriss_energy(df):\n",
    "    eyeriss_energy_per_mac = 16 * 0.2 * 1.e-3 #energy in nJ\n",
    "    eyeriss_energy_alu = float(df['ALU'])\n",
    "    eyeriss_energy_dram = float(df['DRAM']) * 0.15 #Scaling due to technology\n",
    "    eyeriss_energy_buffer = float(df['Buffer'])\n",
    "    eyeriss_energy_array = float(df['Array'])\n",
    "    eyeriss_energy_rf = float(df['RF'])\n",
    "    eyeriss_energy = eyeriss_energy_alu + eyeriss_energy_dram + eyeriss_energy_buffer + eyeriss_energy_array + eyeriss_energy_rf\n",
    "    eyeriss_energy *= eyeriss_energy_per_mac\n",
    "    return eyeriss_energy\n",
    "\n",
    "def get_eyeriss_energy_breakdown(df):\n",
    "    eyeriss_energy_per_mac = 16 * 0.2 * 1.e-3 #energy in nJ\n",
    "    eyeriss_energy_alu = float(df['ALU'])\n",
    "    eyeriss_energy_dram = float(df['DRAM'])\n",
    "    eyeriss_energy_buffer = float(df['Buffer'])\n",
    "    eyeriss_energy_array = float(df['Array'])\n",
    "    eyeriss_energy_rf = float(df['RF'])\n",
    "    eyeriss_energy = [eyeriss_energy_alu+eyeriss_energy_array, eyeriss_energy_buffer, eyeriss_energy_rf, eyeriss_energy_dram]\n",
    "    eyeriss_energy = [x * eyeriss_energy_per_mac for x in eyeriss_energy]\n",
    "    return eyeriss_energy\n",
    "\n",
    "def df_to_stats(df):\n",
    "    stats = Stats()\n",
    "    stats.total_cycles = float(df['Cycles'])\n",
    "    stats.mem_stall_cycles = float(df['Memory wait cycles'])\n",
    "    stats.reads['act'] = float(df['IBUF Read'])\n",
    "    stats.reads['out'] = float(df['OBUF Read'])\n",
    "    stats.reads['wgt'] = float(df['WBUF Read'])\n",
    "    stats.reads['dram'] = float(df['DRAM Read'])\n",
    "    stats.writes['act'] = float(df['IBUF Write'])\n",
    "    stats.writes['out'] = float(df['OBUF Write'])\n",
    "    stats.writes['wgt'] = float(df['WBUF Write'])\n",
    "    stats.writes['dram'] = float(df['DRAM Write'])\n",
    "    return stats"
   ]
  },
  {
   "cell_type": "code",
   "execution_count": 6,
   "metadata": {},
   "outputs": [
    {
     "name": "stdout",
     "output_type": "stream",
     "text": [
      "BitFusion-Eyeriss comparison\n",
      "Area budget = 5.87130177515\n",
      "(0.8880907385600001, 0.76747776, 0.242112, 0.24330592)\n",
      "Warning: BitFusion Area is outside 10% of eyeriss\n",
      "total_area = 2.14098641856, budget = 5.87130177515\n",
      "**************************************************\n",
      "Benchmark: AlexNet\n",
      "BitFusion time: 4.708311375 ms\n",
      "BitFusion power: 448.386241718 mWatt\n",
      "**************************************************\n",
      "**************************************************\n",
      "Benchmark: SVHN\n",
      "BitFusion time: 0.164690375 ms\n",
      "BitFusion power: 410.014092738 mWatt\n",
      "**************************************************\n",
      "**************************************************\n",
      "Benchmark: CIFAR10\n",
      "BitFusion time: 0.411713 ms\n",
      "BitFusion power: 450.464576981 mWatt\n",
      "**************************************************\n",
      "**************************************************\n",
      "Benchmark: LeNet-5\n",
      "BitFusion time: 0.051294 ms\n",
      "BitFusion power: 356.024253811 mWatt\n",
      "**************************************************\n",
      "**************************************************\n",
      "Benchmark: VGG-7\n",
      "BitFusion time: 0.352811375 ms\n",
      "BitFusion power: 419.433333242 mWatt\n",
      "**************************************************\n",
      "**************************************************\n",
      "Benchmark: RESNET-18\n",
      "BitFusion time: 6.13499775 ms\n",
      "BitFusion power: 442.486265848 mWatt\n",
      "**************************************************\n",
      "**************************************************\n",
      "Benchmark: RNN\n",
      "BitFusion time: 0.049322875 ms\n",
      "BitFusion power: 407.720807613 mWatt\n",
      "**************************************************\n",
      "**************************************************\n",
      "Benchmark: LSTM\n",
      "BitFusion time: 0.042146875 ms\n",
      "BitFusion power: 410.009320233 mWatt\n",
      "**************************************************\n"
     ]
    }
   ],
   "source": [
    "# Eyeriss-Simulator\n",
    "eyeriss_data = pandas.read_csv(os.path.join(results_dir, 'eyeriss_results.csv'))\n",
    "eyeriss_data_bench = eyeriss_data.groupby('Benchmark', as_index=False).agg(np.sum)\n",
    "eyeriss_data_bench['Platform'] = 'Eyeriss (16-bit)'\n",
    "\n",
    "print('BitFusion-Eyeriss comparison')\n",
    "eyeriss_area = 3.5*3.5*45*45/65./65.\n",
    "print('Area budget = {}'.format(eyeriss_area))\n",
    "\n",
    "\n",
    "print(area_stats)\n",
    "if abs(sum(area_stats)-eyeriss_area)/eyeriss_area > 0.1:\n",
    "    print('Warning: BitFusion Area is outside 10% of eyeriss')\n",
    "print('total_area = {}, budget = {}'.format(sum(area_stats), eyeriss_area))\n",
    "bf_e_area = sum(area_stats)\n",
    "\n",
    "baseline_data = []\n",
    "for bench in benchmarks.benchlist:\n",
    "    lookup_dict = {'Benchmark': bench}\n",
    "\n",
    "    #eyeriss_cycles = float(lookup_pandas_dataframe(eyeriss_data_bench, lookup_dict)['time(ms)'])\n",
    "    #eyeriss_time = eyeriss_cycles / 500.e3 / 16\n",
    "    #eyeriss_energy = get_eyeriss_energy(lookup_pandas_dataframe(eyeriss_data_bench, lookup_dict))\n",
    "    #eyeriss_power = eyeriss_energy / eyeriss_time * 1.e-9\n",
    "\n",
    "    #eyeriss_speedup = eyeriss_time / eyeriss_time\n",
    "    #eyeriss_energy_efficiency = eyeriss_energy / eyeriss_energy\n",
    "\n",
    "    #eyeriss_ppa = eyeriss_speedup / eyeriss_area / (eyeriss_speedup / eyeriss_area)\n",
    "    #eyeriss_ppw = eyeriss_speedup / eyeriss_power / (eyeriss_speedup / eyeriss_power)\n",
    "    \n",
    "    bf_e_stats = df_to_stats(bf_e_results.loc[bf_e_results['Network'] == bench])\n",
    "    bf_e_cycles = bf_e_stats.total_cycles * (batch_size / 16.)\n",
    "    bf_e_time = bf_e_cycles / 500.e3 / 16\n",
    "    bf_e_energy = bf_e_stats.get_energy(bf_e_sim.get_energy_cost()) * (batch_size / 16.)\n",
    "    bf_e_power = bf_e_energy / bf_e_time * 1.e-9\n",
    "\n",
    "    #bf_e_speedup = eyeriss_time / bf_e_time\n",
    "    #bf_e_energy_efficiency = eyeriss_energy / bf_e_energy\n",
    "\n",
    "    #bf_e_ppa = bf_e_speedup / bf_e_area / (eyeriss_speedup / eyeriss_area)\n",
    "    #bf_e_ppw = bf_e_speedup / bf_e_power / (eyeriss_speedup / eyeriss_power)\n",
    "\n",
    "    #baseline_data.append(['Performance', bench, bf_e_speedup])\n",
    "    #baseline_data.append(['Energy reduction', bench, bf_e_energy_efficiency])\n",
    "    #baseline_data.append(['Performance-per-Watt', bench, bf_e_ppw])\n",
    "    #baseline_data.append(['Performance-per-Area', bench, bf_e_ppa])\n",
    "    \n",
    "    print('*'*50)\n",
    "    print('Benchmark: {}'.format(bench))\n",
    "    #print('Eyeriss time: {} ms'.format(eyeriss_time))\n",
    "    print('BitFusion time: {} ms'.format(bf_e_time))    \n",
    "    #print('Eyeriss power: {} mWatt'.format(eyeriss_power*1.e3*16))\n",
    "    print('BitFusion power: {} mWatt'.format(bf_e_power*1.e3*16))\n",
    "    print('*'*50)\n",
    "    \n",
    "eyeriss_comparison_df = pandas.DataFrame(baseline_data, columns=['Metric', 'Network', 'Value'])"
   ]
  },
  {
   "cell_type": "code",
   "execution_count": null,
   "metadata": {},
   "outputs": [],
   "source": []
  }
 ],
 "metadata": {
  "kernelspec": {
   "display_name": "Python 3.6.2 64-bit (conda)",
   "language": "python",
   "name": "python36264bitcondab249f0559a754378972982ff3e6e2fcb"
  },
  "language_info": {
   "codemirror_mode": {
    "name": "ipython",
    "version": 2
   },
   "file_extension": ".py",
   "mimetype": "text/x-python",
   "name": "python",
   "nbconvert_exporter": "python",
   "pygments_lexer": "ipython2",
   "version": "3.6.2-final"
  }
 },
 "nbformat": 4,
 "nbformat_minor": 2
}